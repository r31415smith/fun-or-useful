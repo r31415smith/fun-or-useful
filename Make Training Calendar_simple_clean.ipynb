{
 "cells": [
  {
   "cell_type": "markdown",
   "id": "458c2b4c",
   "metadata": {},
   "source": [
    "# Make a training calendar Excel sheet\n",
    "\n",
    "Some of the resources that helped me figure out how to do this:\n",
    "\n",
    "https://www.youtube.com/watch?v=7EAYpvdalfQ\n",
    "\n",
    "https://xlsxwriter.readthedocs.io/format.html#set_border\n",
    "https://xlsxwriter.readthedocs.io/format.html#set_align\n",
    "https://xlsxwriter.readthedocs.io/example_merge1.html\n",
    "\n",
    "https://www.youtube.com/watch?v=DPM5GeXLNt8&list=PLBCmnIMkhOzROMK7RecMStckiY1_yWsUW\n",
    "\n",
    "https://docs.python.org/3/library/calendar.html\n",
    "\n"
   ]
  },
  {
   "cell_type": "code",
   "execution_count": 78,
   "id": "5c923024",
   "metadata": {},
   "outputs": [],
   "source": [
    "import xlsxwriter\n",
    "import calendar"
   ]
  },
  {
   "cell_type": "code",
   "execution_count": 79,
   "id": "8353a900",
   "metadata": {},
   "outputs": [],
   "source": [
    "# User input:\n",
    "year = 2022"
   ]
  },
  {
   "cell_type": "code",
   "execution_count": 80,
   "id": "7560b4fc",
   "metadata": {},
   "outputs": [],
   "source": [
    "workbook = xlsxwriter.Workbook('./'+str(year)+' Training Calendar.xlsx')\n",
    "ws_current = workbook.add_worksheet(str(year))"
   ]
  },
  {
   "cell_type": "code",
   "execution_count": 81,
   "id": "c1998cc6",
   "metadata": {},
   "outputs": [],
   "source": [
    "# define formatting:\n",
    "\n",
    "header_format = workbook.add_format({\n",
    "    'bold': 1,\n",
    "#     'border': 1,\n",
    "    'font_size':36,\n",
    "    'align': 'center',\n",
    "    'valign': 'vcenter'})\n",
    "\n",
    "full_border = workbook.add_format(\n",
    "{\n",
    "    \"border\":1,\n",
    "    \"border_color\":\"#000000\"\n",
    "}\n",
    ")\n",
    "\n",
    "merge_format = workbook.add_format({\n",
    "    'bold': 1,\n",
    "    'border': 6,\n",
    "    'align': 'center',\n",
    "    'valign': 'vcenter'})\n",
    "\n",
    "merge_format1 = workbook.add_format({\n",
    "    'bold': 0,\n",
    "    'border': 1,\n",
    "    'align': 'left',\n",
    "    'valign': 'top'})\n",
    "\n",
    "side_format = workbook.add_format({\n",
    "    'bold': 1,\n",
    "    'border': 1,\n",
    "    'font_size':18,\n",
    "    'rotation':90,\n",
    "    'align': 'center',\n",
    "    'valign': 'vcenter'})"
   ]
  },
  {
   "cell_type": "code",
   "execution_count": null,
   "id": "0e1a9389",
   "metadata": {},
   "outputs": [],
   "source": []
  },
  {
   "cell_type": "code",
   "execution_count": 82,
   "id": "199846e7",
   "metadata": {},
   "outputs": [
    {
     "data": {
      "text/plain": [
       "0"
      ]
     },
     "execution_count": 82,
     "metadata": {},
     "output_type": "execute_result"
    }
   ],
   "source": [
    "# Make top headers and set column widths:\n",
    "col_headers = ['Monday','Tuesday','Wednesday','Thursday','Friday','Saturday','Sunday']\n",
    "row_index = 1\n",
    "start_column = 0\n",
    "end_column = start_column + len(col_headers)\n",
    "\n",
    "for column_index in range(start_column,end_column):\n",
    "    col_actual = column_index*2+1\n",
    "\n",
    "    ws_current.set_column(col_actual,col_actual, 20)   \n",
    "    ws_current.set_column(col_actual+1,col_actual+1, 3)  \n",
    "    ws_current.merge_range(row_index,col_actual,row_index,col_actual+1,col_headers[column_index-start_column],merge_format)\n",
    "    \n",
    "ws_current.set_column('A:A', 5.86)\n",
    "\n",
    "ws_current.set_column('P:P', 12)   \n",
    "ws_current.set_column('Q:Q', 36)   \n",
    "ws_current.set_column('R:R', 36)   \n",
    "cell_format_center = workbook.add_format({'bold': True,'align': 'center'})\n",
    "ws_current.write('P2','Week', cell_format_center) \n",
    "cell_format = workbook.add_format({'bold': True})\n",
    "ws_current.write('Q2','body inventory:', cell_format) \n",
    "ws_current.write('R2','personal notes:', cell_format) \n"
   ]
  },
  {
   "cell_type": "code",
   "execution_count": 83,
   "id": "1b2023ba",
   "metadata": {},
   "outputs": [],
   "source": [
    "# do some of the standard formatting\n",
    "\n",
    "row_index = 2\n",
    "start_column = 0\n",
    "end_column = start_column + len(col_headers)\n",
    "\n",
    "\n",
    "for rowcount in range(0,53):\n",
    "    for column_index in range(start_column,end_column):\n",
    "        col_actual = column_index*2+1\n",
    "        row_actual = row_index + rowcount*2 \n",
    "        ws_current.set_column(col_actual,col_actual, 20)   \n",
    "        ws_current.set_column(col_actual+1,col_actual+1, 3)\n",
    "        ws_current.set_row(row_actual+1, 45)\n",
    "        ws_current.write(row_actual,col_actual,None,full_border)\n",
    "        ws_current.write(row_actual,col_actual+1,None,full_border)\n",
    "        ws_current.write(row_actual,15,str(rowcount),cell_format_center)\n",
    "        ws_current.merge_range(row_actual+1,col_actual,row_actual+1,col_actual+1,None,merge_format1)\n",
    "        "
   ]
  },
  {
   "cell_type": "code",
   "execution_count": 84,
   "id": "ccbcf05f",
   "metadata": {},
   "outputs": [],
   "source": [
    "# write in the date:\n",
    "\n",
    "cal = calendar.Calendar()\n",
    "\n",
    "row_index = 2\n",
    "start_column = 0\n",
    "end_column = start_column + len(col_headers)\n",
    "\n",
    "weekshift = 0\n",
    "for month in range(1,13):\n",
    "    monthcal = cal.monthdays2calendar(year,month)\n",
    "    month_row_begin = row_index+weekshift*2\n",
    "    for weekcount,week in enumerate(monthcal):\n",
    "        for daycount,column_index in enumerate(range(start_column,end_column)):\n",
    "            col_actual = column_index*2+1\n",
    "            row_actual = row_index+weekcount*2+weekshift*2\n",
    "            if monthcal[weekcount][daycount][0] != 0:\n",
    "                ws_current.write(\n",
    "                    row_actual,\n",
    "                    col_actual+1,\n",
    "                    monthcal[weekcount][daycount][0],\n",
    "                    full_border\n",
    "                )\n",
    "#             print(month,row_actual,weekcount,monthcal[weekcount][daycount])\n",
    "    month_row_end = row_index+weekcount*2+weekshift*2-1\n",
    "    weekbump = weekcount\n",
    "    if monthcal[-1][-1][0] != 0:\n",
    "        weekbump = weekcount + 1\n",
    "        month_row_end = month_row_end + 2\n",
    "    weekshift = weekshift + weekbump\n",
    "    \n",
    "    # put in Month\n",
    "    ws_current.merge_range(month_row_begin,0,month_row_end,0,calendar.month_name[month],side_format)"
   ]
  },
  {
   "cell_type": "code",
   "execution_count": 85,
   "id": "fd939297",
   "metadata": {},
   "outputs": [],
   "source": [
    "ws_current.merge_range('B1:O1',str(year)+\" Training Calendar\",header_format)"
   ]
  },
  {
   "cell_type": "code",
   "execution_count": 86,
   "id": "3c407da0",
   "metadata": {},
   "outputs": [],
   "source": [
    "workbook.close()"
   ]
  },
  {
   "cell_type": "code",
   "execution_count": null,
   "id": "e8cc7464",
   "metadata": {},
   "outputs": [],
   "source": []
  },
  {
   "cell_type": "code",
   "execution_count": null,
   "id": "82d01884",
   "metadata": {},
   "outputs": [],
   "source": []
  },
  {
   "cell_type": "code",
   "execution_count": null,
   "id": "0330c50a",
   "metadata": {},
   "outputs": [],
   "source": []
  }
 ],
 "metadata": {
  "kernelspec": {
   "display_name": "Python 3",
   "language": "python",
   "name": "python3"
  },
  "language_info": {
   "codemirror_mode": {
    "name": "ipython",
    "version": 3
   },
   "file_extension": ".py",
   "mimetype": "text/x-python",
   "name": "python",
   "nbconvert_exporter": "python",
   "pygments_lexer": "ipython3",
   "version": "3.8.8"
  }
 },
 "nbformat": 4,
 "nbformat_minor": 5
}
